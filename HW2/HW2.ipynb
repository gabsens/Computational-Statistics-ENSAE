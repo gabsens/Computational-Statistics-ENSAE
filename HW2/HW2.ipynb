{
 "cells": [
  {
   "cell_type": "code",
   "execution_count": 139,
   "metadata": {},
   "outputs": [],
   "source": [
    "import numpy as np\n",
    "import scipy as sc\n",
    "from scipy.stats import norm, t "
   ]
  },
  {
   "cell_type": "code",
   "execution_count": 138,
   "metadata": {},
   "outputs": [],
   "source": [
    "sample = np.random.standard_t(5, size=1000000)"
   ]
  },
  {
   "cell_type": "code",
   "execution_count": 164,
   "metadata": {},
   "outputs": [
    {
     "name": "stdout",
     "output_type": "stream",
     "text": [
      "0.002724114700884628\n"
     ]
    }
   ],
   "source": [
    "a = 4.677\n",
    "print(1-t.cdf(a, df =5))"
   ]
  },
  {
   "cell_type": "code",
   "execution_count": 158,
   "metadata": {},
   "outputs": [
    {
     "name": "stdout",
     "output_type": "stream",
     "text": [
      "0.015049623948731217\n",
      "0.0020523579900266764\n",
      "0.00045837375719925966\n"
     ]
    }
   ],
   "source": [
    "for a in [3,5,7]:\n",
    "    param_true = 1-t.cdf(a, df =5)\n",
    "    print(param_true)\n",
    "    \n",
    "lower = [0.015, 0.002, 0.00045]"
   ]
  },
  {
   "cell_type": "code",
   "execution_count": 89,
   "metadata": {},
   "outputs": [],
   "source": [
    "param_esti1 = np.mean(sample>a)"
   ]
  },
  {
   "cell_type": "code",
   "execution_count": 90,
   "metadata": {},
   "outputs": [],
   "source": [
    "beta = -4*1/np.sqrt(2*np.pi)*np.exp(-a*a/2)*(1/a-1/a**3)"
   ]
  },
  {
   "cell_type": "code",
   "execution_count": 91,
   "metadata": {},
   "outputs": [],
   "source": [
    "param_esti2 = np.mean(sample>a) + beta*(np.mean(sample>0)-0.5)"
   ]
  },
  {
   "cell_type": "code",
   "execution_count": 92,
   "metadata": {},
   "outputs": [
    {
     "data": {
      "text/plain": [
       "1.610196836989656e-05"
      ]
     },
     "execution_count": 92,
     "metadata": {},
     "output_type": "execute_result"
    }
   ],
   "source": [
    "abs(param_true - param_esti1)"
   ]
  },
  {
   "cell_type": "code",
   "execution_count": 93,
   "metadata": {},
   "outputs": [
    {
     "data": {
      "text/plain": [
       "1.2677298545205051e-05"
      ]
     },
     "execution_count": 93,
     "metadata": {},
     "output_type": "execute_result"
    }
   ],
   "source": [
    "abs(param_true - param_esti2)"
   ]
  },
  {
   "cell_type": "code",
   "execution_count": 131,
   "metadata": {},
   "outputs": [
    {
     "name": "stdout",
     "output_type": "stream",
     "text": [
      "a=3: 1.519580056165572e-08 1.518364375976713e-08\n",
      "a=5: 2.8726559182105945e-12 2.8727490145393642e-12\n",
      "a=7: 1.6380546813342318e-24 1.6381055411396865e-24\n"
     ]
    }
   ],
   "source": [
    "for a in [3, 5, 7]:\n",
    "    beta = -4*1/np.sqrt(2*np.pi)*np.exp(-a*a/2)*(1/a-1/a**3)\n",
    "    param_true = 1-norm.cdf(a)\n",
    "    var1, var2 = [], []\n",
    "    for _ in range(10000):\n",
    "        sample = np.random.normal(size=100000)\n",
    "        param_esti1 = np.mean(sample>a)\n",
    "        param_esti2 = np.mean(sample>a) + beta*(np.mean(sample>0)-0.5)\n",
    "        var1.append((param_true-param_esti1)**2)\n",
    "        var2.append((param_true-param_esti2)**2)\n",
    "    print('a='+str(a)+':', np.mean(var1), np.mean(var2))\n",
    "    "
   ]
  },
  {
   "cell_type": "code",
   "execution_count": 163,
   "metadata": {},
   "outputs": [
    {
     "name": "stdout",
     "output_type": "stream",
     "text": [
      "a=3: 1.4968497511733762e-07 1.5018729508529895e-07\n",
      "a=5: 2.080521624051083e-08 2.0759890499035278e-08\n",
      "a=7: 4.648696279211993e-09 4.645446973167686e-09\n"
     ]
    }
   ],
   "source": [
    "lower = [0.015, 0.002, 0.00045]\n",
    "for (a, lower) in zip([3, 5, 7], lower):\n",
    "    beta = -4*lower\n",
    "    param_true = 1-t.cdf(a, df =5)\n",
    "    var1, var2 = [], []\n",
    "    for _ in range(10000):\n",
    "        sample = np.random.standard_t(5, size=100000)\n",
    "        param_esti1 = np.mean(sample>a)\n",
    "        param_esti2 = np.mean(sample>a) + beta*(np.mean(sample>0)-0.5)\n",
    "        var1.append((param_true-param_esti1)**2)\n",
    "        var2.append((param_true-param_esti2)**2)\n",
    "    print('a='+str(a)+':', np.mean(var1), np.mean(var2))\n",
    "    "
   ]
  },
  {
   "cell_type": "code",
   "execution_count": 160,
   "metadata": {},
   "outputs": [
    {
     "data": {
      "text/plain": [
       "[(1, 3), (2, 4)]"
      ]
     },
     "execution_count": 160,
     "metadata": {},
     "output_type": "execute_result"
    }
   ],
   "source": [
    "list(zip([1,2],[3,4]))"
   ]
  },
  {
   "cell_type": "code",
   "execution_count": null,
   "metadata": {},
   "outputs": [],
   "source": []
  }
 ],
 "metadata": {
  "kernelspec": {
   "display_name": "Python 3",
   "language": "python",
   "name": "python3"
  },
  "language_info": {
   "codemirror_mode": {
    "name": "ipython",
    "version": 3
   },
   "file_extension": ".py",
   "mimetype": "text/x-python",
   "name": "python",
   "nbconvert_exporter": "python",
   "pygments_lexer": "ipython3",
   "version": "3.6.2"
  }
 },
 "nbformat": 4,
 "nbformat_minor": 2
}
